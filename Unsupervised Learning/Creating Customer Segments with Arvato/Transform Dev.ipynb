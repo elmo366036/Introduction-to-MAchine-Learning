{
 "cells": [
  {
   "cell_type": "code",
   "execution_count": null,
   "metadata": {},
   "outputs": [],
   "source": [
    "def clean_remaining_NaNs(data_df, feature_df):\n",
    "    \"\"\"\n",
    "    Address any remaining NaNs in data_df.\n",
    "        \n",
    "    INPUT:  Data DataFrame, Feature Information DataFrame\n",
    "    OUTPUT: Data DataFrame modified by replacement of any remaining NaNs   \n",
    "    \"\"\"\n",
    "\n",
    "    data      = data_df.copy()\n",
    "    feat_info = feature_df.copy()\n",
    "\n",
    "    # create a dictionary of columns with NaNs. The dictionary can be used for analysis. \n",
    "    remaining_NaN_cols  = {}\n",
    "    remaining_feats_NaN = data.isna().any()[lambda x: x].index\n",
    "\n",
    "    for col in remaining_feats_NaN:        \n",
    "        remaining_NaN_cols[col] = data[col].isnull().sum()\n",
    "\n",
    "    # turn the dictionary into a list\n",
    "    remaining_missing_features = pd.DataFrame.from_dict(remaining_NaN_cols, orient='index')\n",
    "    \n",
    "    # add the type to remaining_missing_features \n",
    "    temp_rem_feat_view = feat_info.set_index('attribute')   \n",
    "    for feature in remaining_missing_features.index:\n",
    "        remaining_missing_features.at[feature, 'type'] = temp_rem_feat_view.loc[feature]['type'] \n",
    "    \n",
    "    # set the mixed and ordinal NaNs to the median and the numeric NaNs to the mean.\n",
    "    for feature in remaining_missing_features.index:\n",
    "        if remaining_missing_features.loc[feature]['type'] == 'mixed':\n",
    "            data[feature].fillna(value=data[feature].median(), inplace=True)\n",
    "        elif remaining_missing_features.loc[feature]['type'] == 'ordinal':\n",
    "            data[feature].fillna(value=data[feature].median(), inplace=True)\n",
    "        elif remaining_missing_features.loc[feature]['type'] == 'numeric':\n",
    "            data[feature].fillna(value=data[feature].mean(), inplace=True)\n",
    "            \n",
    "    return data"
   ]
  },
  {
   "cell_type": "code",
   "execution_count": null,
   "metadata": {},
   "outputs": [],
   "source": [
    "def transform_data(data_df):\n",
    "    \"\"\"\n",
    "    Apply a StandardScaler to all columns (features) in data_df\n",
    "        \n",
    "    INPUT:  Data DataFrame\n",
    "    OUTPUT: Data DataFrame with StandardScaler applied to all columns   \n",
    "    \"\"\"\n",
    "    \n",
    "    data = data_df.copy()\n",
    "    \n",
    "    # use ColumnTransformer to transform the data \n",
    "    data_features = data.columns\n",
    "    ct = ColumnTransformer([('data_transformed', StandardScaler(), data_features)], remainder='passthrough')\n",
    "    data_transform = ct.fit_transform(data)\n",
    "\n",
    "    # reassemble the DataFrame\n",
    "    data_scaled = pd.DataFrame(data_transform, columns=data_features)\n",
    "    \n",
    "    return data_scaled"
   ]
  }
 ],
 "metadata": {
  "kernelspec": {
   "display_name": "Python 3",
   "language": "python",
   "name": "python3"
  },
  "language_info": {
   "codemirror_mode": {
    "name": "ipython",
    "version": 3
   },
   "file_extension": ".py",
   "mimetype": "text/x-python",
   "name": "python",
   "nbconvert_exporter": "python",
   "pygments_lexer": "ipython3",
   "version": "3.7.3"
  }
 },
 "nbformat": 4,
 "nbformat_minor": 2
}

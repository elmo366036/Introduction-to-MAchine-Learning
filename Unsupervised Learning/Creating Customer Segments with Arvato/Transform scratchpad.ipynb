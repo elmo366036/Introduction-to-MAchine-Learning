{
 "cells": [
  {
   "cell_type": "code",
   "execution_count": null,
   "metadata": {},
   "outputs": [],
   "source": [
    "# Perform an assessment of how much missing data remains in each column of the\n",
    "#    dataset and the characteristics of it. \n",
    "\n",
    "remaining_NaN_cols  = {}\n",
    "remaining_feats_NaN = azdias_clean.isna().any()[lambda x: x].index\n",
    "\n",
    "for col in remaining_feats_NaN:        \n",
    "    remaining_NaN_cols[col] = azdias_clean[col].isnull().sum()\n",
    "\n",
    "remaining_missing_features = pd.DataFrame.from_dict(remaining_NaN_cols, orient='index')"
   ]
  },
  {
   "cell_type": "code",
   "execution_count": null,
   "metadata": {},
   "outputs": [],
   "source": [
    "# We will set the mixed and ordinal values to the median and set the numeric to the mean.\n",
    "\n",
    "for feature in remaining_missing_features.index:\n",
    "    if remaining_missing_features.loc[feature]['type'] == 'mixed':\n",
    "        azdias_clean[feature].fillna(value=azdias_clean[feature].median(), inplace=True)\n",
    "    elif remaining_missing_features.loc[feature]['type'] == 'ordinal':\n",
    "        azdias_clean[feature].fillna(value=azdias_clean[feature].median(), inplace=True)\n",
    "    elif remaining_missing_features.loc[feature]['type'] == 'numeric':\n",
    "        azdias_clean[feature].fillna(value=azdias_clean[feature].mean(), inplace=True)"
   ]
  },
  {
   "cell_type": "code",
   "execution_count": null,
   "metadata": {},
   "outputs": [],
   "source": [
    "# use ColumnTransformer to transform the data \n",
    "\n",
    "azdias_clean_features = azdias_clean.columns\n",
    "ct = ColumnTransformer([('azdias_transformed', StandardScaler(), azdias_clean_features)], remainder='passthrough')\n",
    "azdias_clean_transform = ct.fit_transform(azdias_clean)\n",
    "\n",
    "# Now we need to reassemble the DataFrame\n",
    "azdias_clean_scaled = pd.DataFrame(azdias_clean_transform, columns=azdias_clean_features)"
   ]
  }
 ],
 "metadata": {
  "kernelspec": {
   "display_name": "Python 3",
   "language": "python",
   "name": "python3"
  },
  "language_info": {
   "codemirror_mode": {
    "name": "ipython",
    "version": 3
   },
   "file_extension": ".py",
   "mimetype": "text/x-python",
   "name": "python",
   "nbconvert_exporter": "python",
   "pygments_lexer": "ipython3",
   "version": "3.7.3"
  }
 },
 "nbformat": 4,
 "nbformat_minor": 2
}
